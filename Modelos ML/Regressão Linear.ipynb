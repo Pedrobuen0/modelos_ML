{
 "cells": [
  {
   "cell_type": "code",
   "execution_count": 1,
   "id": "723a3dd0",
   "metadata": {},
   "outputs": [],
   "source": [
    "import yfinance as yf\n",
    "import pandas as pd\n",
    "import numpy as np\n",
    "from sklearn.model_selection import train_test_split\n",
    "from sklearn.linear_model import LinearRegression\n",
    "from sklearn.metrics import mean_absolute_error, mean_squared_error, r2_score\n",
    "from sklearn.preprocessing import StandardScaler\n",
    "import matplotlib.pyplot as plt"
   ]
  },
  {
   "cell_type": "code",
   "execution_count": 2,
   "id": "32b717ac",
   "metadata": {},
   "outputs": [],
   "source": [
    "def calculate_technical_indicators(df):\n",
    "    df = df.copy()\n",
    "    df['SMA_20'] = df['Adj Close'].rolling(window=20).mean()\n",
    "    df['SMA_50'] = df['Adj Close'].rolling(window=50).mean()\n",
    "    delta = df['Adj Close'].diff(1)\n",
    "    gain = delta.where(delta > 0, 0)\n",
    "    loss = -delta.where(delta < 0, 0)\n",
    "    avg_gain = gain.rolling(window=14).mean()\n",
    "    avg_loss = loss.rolling(window=14).mean()\n",
    "    rs = avg_gain / avg_loss\n",
    "    df['RSI'] = 100 - (100 / (1 + rs))\n",
    "    df['EMA_20'] = df['Adj Close'].ewm(span=20, adjust=False).mean()\n",
    "    return df"
   ]
  },
  {
   "cell_type": "code",
   "execution_count": 3,
   "id": "21bfc27e",
   "metadata": {},
   "outputs": [
    {
     "name": "stdout",
     "output_type": "stream",
     "text": [
      "Baixando dados para AAPL...\n"
     ]
    },
    {
     "name": "stderr",
     "output_type": "stream",
     "text": [
      "[*********************100%***********************]  1 of 1 completed\n"
     ]
    },
    {
     "name": "stdout",
     "output_type": "stream",
     "text": [
      "Baixando dados para MSFT...\n"
     ]
    },
    {
     "name": "stderr",
     "output_type": "stream",
     "text": [
      "[*********************100%***********************]  1 of 1 completed\n"
     ]
    },
    {
     "name": "stdout",
     "output_type": "stream",
     "text": [
      "Baixando dados para GOOGL...\n"
     ]
    },
    {
     "name": "stderr",
     "output_type": "stream",
     "text": [
      "[*********************100%***********************]  1 of 1 completed\n"
     ]
    },
    {
     "name": "stdout",
     "output_type": "stream",
     "text": [
      "Baixando dados para AMZN...\n"
     ]
    },
    {
     "name": "stderr",
     "output_type": "stream",
     "text": [
      "[*********************100%***********************]  1 of 1 completed\n"
     ]
    },
    {
     "name": "stdout",
     "output_type": "stream",
     "text": [
      "Baixando dados para META...\n"
     ]
    },
    {
     "name": "stderr",
     "output_type": "stream",
     "text": [
      "[*********************100%***********************]  1 of 1 completed\n"
     ]
    }
   ],
   "source": [
    "tickers = ['AAPL', 'MSFT', 'GOOGL', 'AMZN', 'META']\n",
    "stocks_data = {}\n",
    "for ticker in tickers:\n",
    "    print(f\"Baixando dados para {ticker}...\")\n",
    "    data = yf.download(ticker, start=\"2017-01-01\", end=\"2023-12-31\")\n",
    "    if 'Adj Close' in data.columns:\n",
    "        data = calculate_technical_indicators(data)\n",
    "        data.dropna(inplace=True)  \n",
    "        stocks_data[ticker] = data\n",
    "    else:\n",
    "        print(f\"Coluna 'Adj Close' não encontrada para {ticker}\")"
   ]
  },
  {
   "cell_type": "code",
   "execution_count": 4,
   "id": "3ad5185f",
   "metadata": {},
   "outputs": [],
   "source": [
    "file_path = '/Users/pedrobueno/Desktop/Modelos ML/World Bank/API_NY.GDP.MKTP.CD_DS2_en_csv_v2_3403845.csv'\n",
    "df_pib = pd.read_csv(file_path, sep=';', skiprows=4)\n",
    "df_pib_filtered = df_pib.loc[:, '2017':'2023']\n",
    "df_pib_filtered = df_pib_filtered.T.reset_index()\n",
    "df_pib_filtered.columns = ['Year', 'GDP']\n",
    "df_pib_filtered['Date'] = pd.to_datetime(df_pib_filtered['Year'] + '-01-01')\n",
    "df_pib_daily = pd.DataFrame(index=pd.date_range(start=\"2017-01-01\", end=\"2024-01-01\"))\n",
    "df_pib_daily['GDP'] = np.nan"
   ]
  },
  {
   "cell_type": "code",
   "execution_count": 5,
   "id": "97f62540",
   "metadata": {},
   "outputs": [],
   "source": [
    "for i, row in df_pib_filtered.iterrows():\n",
    "    start_date = row['Date']\n",
    "    if i < len(df_pib_filtered) - 1:\n",
    "        end_date = df_pib_filtered.loc[i + 1, 'Date'] - pd.DateOffset(days=1)\n",
    "    else:\n",
    "        end_date = pd.to_datetime('2024-01-01')\n",
    "    df_pib_daily.loc[start_date:end_date, 'GDP'] = row['GDP']"
   ]
  },
  {
   "cell_type": "code",
   "execution_count": 7,
   "id": "987fe2b5",
   "metadata": {},
   "outputs": [],
   "source": [
    "X_all = pd.DataFrame()\n",
    "y_all = pd.Series(dtype='float64')\n",
    "for ticker in tickers:\n",
    "    X = stocks_data[ticker].copy()\n",
    "    train_size = int(len(X) * 0.8)  \n",
    "    X_train = X.iloc[:train_size]\n",
    "    X_test = X.iloc[train_size:]\n",
    "    # Adicionando PIB\n",
    "    X_train = X_train.join(df_pib_daily['GDP'], how='left')\n",
    "    X_test = X_test.join(df_pib_daily['GDP'], how='left')\n",
    "    # Criando y com base em Adj Close (deslocado para prever o próximo dia)\n",
    "    y_train = X_train['Adj Close'].shift(-1).dropna()\n",
    "    y_test = X_test['Adj Close'].shift(-1).dropna()\n",
    "    X_train.dropna(inplace=True)\n",
    "    X_test.dropna(inplace=True)\n",
    "    \n",
    "    if len(y_train) != len(X_train):\n",
    "        min_len = min(len(y_train), len(X_train))\n",
    "        X_train = X_train.iloc[:min_len]\n",
    "        y_train = y_train.iloc[:min_len]\n",
    "        "
   ]
  },
  {
   "cell_type": "code",
   "execution_count": 8,
   "id": "6ccc1c98",
   "metadata": {},
   "outputs": [],
   "source": [
    "    X_all = pd.concat([X_all, X_train])\n",
    "    y_all = pd.concat([y_all, y_train], ignore_index=True)"
   ]
  },
  {
   "cell_type": "code",
   "execution_count": 9,
   "id": "3fb62be6",
   "metadata": {},
   "outputs": [],
   "source": [
    "features = ['Open', 'High', 'Low', 'Close', 'Volume', 'GDP', 'SMA_20', 'SMA_50', 'RSI', 'EMA_20']\n",
    "X_all = X_all[features]"
   ]
  },
  {
   "cell_type": "code",
   "execution_count": 10,
   "id": "9c8b656c",
   "metadata": {},
   "outputs": [
    {
     "data": {
      "text/plain": [
       "LinearRegression()"
      ]
     },
     "execution_count": 10,
     "metadata": {},
     "output_type": "execute_result"
    }
   ],
   "source": [
    "scaler = StandardScaler()\n",
    "X_scaled = scaler.fit_transform(X_all)\n",
    "model = LinearRegression()\n",
    "model.fit(X_scaled, y_all)"
   ]
  },
  {
   "cell_type": "code",
   "execution_count": 11,
   "id": "0971d7df",
   "metadata": {},
   "outputs": [],
   "source": [
    "y_pred = model.predict(X_scaled)"
   ]
  },
  {
   "cell_type": "code",
   "execution_count": 12,
   "id": "2484658b",
   "metadata": {},
   "outputs": [
    {
     "name": "stdout",
     "output_type": "stream",
     "text": [
      "Mean Squared Error: 29.001262181606997\n",
      "Mean Absolute Error: 3.4062707666507968\n",
      "R2 Score: 0.992751170761697\n"
     ]
    }
   ],
   "source": [
    "df_results = pd.DataFrame({'Real': y_all, 'Predito': y_pred})\n",
    "mse = mean_squared_error(df_results['Real'], df_results['Predito'])\n",
    "mae = mean_absolute_error(df_results['Real'], df_results['Predito'])\n",
    "r2 = r2_score(df_results['Real'], df_results['Predito'])\n",
    "\n",
    "print(f\"Mean Squared Error: {mse}\")\n",
    "print(f\"Mean Absolute Error: {mae}\")\n",
    "print(f\"R2 Score: {r2}\")"
   ]
  },
  {
   "cell_type": "code",
   "execution_count": 13,
   "id": "b1f18ef7",
   "metadata": {},
   "outputs": [
    {
     "data": {
      "image/png": "[encoded data removed]",
      "text/plain": [
       "<Figure size 864x432 with 1 Axes>"
      ]
     },
     "metadata": {
      "needs_background": "light"
     },
     "output_type": "display_data"
    }
   ],
   "source": [
    "plt.figure(figsize=(12, 6))\n",
    "plt.plot(df_results['Real'].values, label='Real', color='blue')\n",
    "plt.plot(df_results['Predito'].values, label='Predito', color='orange')\n",
    "plt.title('Comparação de Valores Reais e Preditos')\n",
    "plt.xlabel('Dias')\n",
    "plt.ylabel('Preço Ajustado')\n",
    "plt.legend()\n",
    "plt.grid()\n",
    "plt.show()"
   ]
  },
  {
   "cell_type": "code",
   "execution_count": null,
   "id": "9b907457",
   "metadata": {},
   "outputs": [],
   "source": []
  }
 ],
 "metadata": {
  "kernelspec": {
   "display_name": "Python 3 (ipykernel)",
   "language": "python",
   "name": "python3"
  },
  "language_info": {
   "codemirror_mode": {
    "name": "ipython",
    "version": 3
   },
   "file_extension": ".py",
   "mimetype": "text/x-python",
   "name": "python",
   "nbconvert_exporter": "python",
   "pygments_lexer": "ipython3",
   "version": "3.9.7"
  }
 },
 "nbformat": 4,
 "nbformat_minor": 5
}
